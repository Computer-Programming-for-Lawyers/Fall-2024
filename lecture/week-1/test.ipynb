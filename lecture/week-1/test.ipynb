{
 "cells": [
  {
   "cell_type": "markdown",
   "metadata": {},
   "source": [
    "You should see this in your forked repository! Check out README.md for instructions on how to keep your fork up-to-date with changes."
   ]
  },
  {
   "cell_type": "markdown",
   "metadata": {},
   "source": [
    "### In Lecture Exercises \n",
    "\n",
    "1. Calculate the total cost of buying 5 items, each priced at $0.99, and print the result.\n",
    "2. Check if the result of dividing 10 by 3 is equal to 3.33 and print the boolean result.\n",
    "3. Print the boolean result of whether 0.1 + 0.2 is exactly equal to 0.3.\n",
    "4. Multiply the integer 7 by the floating-point number 0.5 and print the result.\n",
    "5. Divide 5 by 2, store the result in a variable, and then check if it is greater than 2.5. Print the boolean result.\n",
    "    \n",
    "    5a. Now add 7 to that variable. Print the variable. (Hint: The variable should now equal 17.)\n",
    "6. Combine the strings \"Good\" and \"Morning\"\n",
    "7. Check if strings \"python\" and \"PYTHON\" are equal to each other and print the result.\n",
    "8. Check if 10 is greater than 5 or if 25 is less than 30. Print the boolean result."
   ]
  }
 ],
 "metadata": {
  "kernelspec": {
   "display_name": "Python 3",
   "language": "python",
   "name": "python3"
  },
  "language_info": {
   "name": "python",
   "version": "3.10.13"
  }
 },
 "nbformat": 4,
 "nbformat_minor": 2
}
