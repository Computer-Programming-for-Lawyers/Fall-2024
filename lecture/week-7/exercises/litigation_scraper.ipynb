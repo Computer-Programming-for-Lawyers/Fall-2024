{
 "cells": [
  {
   "cell_type": "markdown",
   "metadata": {},
   "source": [
    "## Scraping [COVID-Related Election Litigation Tracker](https://healthyelections-case-tracker.stanford.edu/)\n",
    "\n",
    "Use AI to create a dataframe of all cases in the litigation tracker."
   ]
  }
 ],
 "metadata": {
  "language_info": {
   "name": "python"
  }
 },
 "nbformat": 4,
 "nbformat_minor": 2
}
