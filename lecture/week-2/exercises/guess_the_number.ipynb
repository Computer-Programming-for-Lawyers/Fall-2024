{
 "cells": [
  {
   "cell_type": "code",
   "execution_count": null,
   "metadata": {},
   "outputs": [],
   "source": [
    "### Name: Jonathan Frankle\n",
    "### Filename: guess_the_number.py\n",
    "### Description: Plays the number guessing game.\n",
    "\n",
    "# V1: Basic number guesser. Reports right or wrong only.\n",
    "\n",
    "import random\n",
    "\n",
    "# Pick a random number between 1 and 100.\n",
    "answer = random.randint(1, 100)\n",
    "\n",
    "guess = int(input('Guess a number between 1 and 100: '))\n",
    "\n",
    "# A false start here would be \"if guess != answer\" which would execute just once.\n",
    "\n",
    "# Repeatedly let the user try to guess the number.\n",
    "while guess != answer:\n",
    "    print('Nope, sorry. Try again.')\n",
    "\n",
    "    guess = int(input('Guess a number between 1 and 100: '))\n",
    "\n",
    "print('You got it right!')"
   ]
  }
 ],
 "metadata": {
  "language_info": {
   "name": "python"
  }
 },
 "nbformat": 4,
 "nbformat_minor": 2
}
