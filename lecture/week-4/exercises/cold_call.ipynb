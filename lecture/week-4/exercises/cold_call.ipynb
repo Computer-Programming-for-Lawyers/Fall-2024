{
 "cells": [
  {
   "cell_type": "code",
   "execution_count": 2,
   "metadata": {},
   "outputs": [
    {
     "ename": "ValueError",
     "evalue": "list.remove(x): x not in list",
     "output_type": "error",
     "traceback": [
      "\u001b[0;31m---------------------------------------------------------------------------\u001b[0m",
      "\u001b[0;31mValueError\u001b[0m                                Traceback (most recent call last)",
      "Cell \u001b[0;32mIn[2], line 21\u001b[0m\n\u001b[1;32m     18\u001b[0m absent_students \u001b[38;5;241m=\u001b[39m \u001b[38;5;28minput\u001b[39m(\u001b[38;5;124m\"\u001b[39m\u001b[38;5;124mProvide the first names of absent students: \u001b[39m\u001b[38;5;124m\"\u001b[39m)\u001b[38;5;241m.\u001b[39msplit(\u001b[38;5;124m\"\u001b[39m\u001b[38;5;124m,\u001b[39m\u001b[38;5;124m\"\u001b[39m)\n\u001b[1;32m     20\u001b[0m \u001b[38;5;28;01mfor\u001b[39;00m absent_student \u001b[38;5;129;01min\u001b[39;00m absent_students:\n\u001b[0;32m---> 21\u001b[0m     \u001b[43mfirst_names\u001b[49m\u001b[38;5;241;43m.\u001b[39;49m\u001b[43mremove\u001b[49m\u001b[43m(\u001b[49m\u001b[43mabsent_student\u001b[49m\u001b[43m)\u001b[49m\n",
      "\u001b[0;31mValueError\u001b[0m: list.remove(x): x not in list"
     ]
    }
   ],
   "source": [
    "# cold_call.ipynb\n",
    "# created by Rachel Orey, Fall 2024\n",
    "# randomly selects student by name\n",
    "\n",
    "import random\n",
    "\n",
    "# load student names from file\n",
    "students = open('f24-students.csv').read().split(\"\\n\")\n",
    "\n",
    "# create empty list to store first names\n",
    "first_names = []\n",
    "\n",
    "# extract first names using for loop\n",
    "for student in students:\n",
    "    first_names.append(student.split(\" \")[0])\n",
    "\n",
    "#remove absent students\n",
    "absent_students = input(\"Provide the first names of absent students: \").split(\",\")\n",
    "\n",
    "for absent_student in absent_students:\n",
    "    first_names.remove(absent_student)"
   ]
  },
  {
   "cell_type": "code",
   "execution_count": 12,
   "metadata": {},
   "outputs": [
    {
     "name": "stdout",
     "output_type": "stream",
     "text": [
      "Selected student: Grayson\n"
     ]
    }
   ],
   "source": [
    "# if not all students have been called, randomly select\n",
    "if first_names:\n",
    "    selected = random.choice(first_names) # randomly select student\n",
    "    print(f\"Selected student: {selected}\") # print selection\n",
    "    first_names.remove(selected) # remove them from list so they don't get called again til everyone else has been called\n",
    "\n",
    "# if all students have been called (list empty), regenerate using cell above\n",
    "else:\n",
    "    print(\"All students have been called. Regenerate list.\")\n",
    "\n",
    "    # hint to students: we could put the entire above code block here so it would automatically regenerate when the list runs out. \n",
    "    # while it might seem counterintuitive to put the start of the code in the \"else\" category, because \"first_names\" wouldn't have been\n",
    "    # created yet, the first if statement would fail and the program would start here"
   ]
  }
 ],
 "metadata": {
  "kernelspec": {
   "display_name": "Python 3",
   "language": "python",
   "name": "python3"
  },
  "language_info": {
   "codemirror_mode": {
    "name": "ipython",
    "version": 3
   },
   "file_extension": ".py",
   "mimetype": "text/x-python",
   "name": "python",
   "nbconvert_exporter": "python",
   "pygments_lexer": "ipython3",
   "version": "3.12.1"
  }
 },
 "nbformat": 4,
 "nbformat_minor": 2
}
