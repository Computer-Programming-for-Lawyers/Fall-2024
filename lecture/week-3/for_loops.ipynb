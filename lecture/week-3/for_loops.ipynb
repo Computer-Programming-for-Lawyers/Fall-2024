{
 "cells": [
  {
   "cell_type": "markdown",
   "metadata": {},
   "source": [
    "# For Loops\n",
    "A for-loop is a control structure that allows you to iterate over a sequence (like a list or range) and execute a block of code for each item in the sequence. It’s useful for processing collections of data efficiently, as it repeats actions without needing to manually track each step."
   ]
  },
  {
   "cell_type": "code",
   "execution_count": null,
   "metadata": {},
   "outputs": [],
   "source": [
    "# EXAMPLE: Imagine you want to convert a list of singular nouns to plural using while loops\n",
    "\n",
    "# Create a list of singular nouns\n",
    "nouns = [\"cat\", \"dog\", \"car\", \"tree\"]\n",
    "\n",
    "# Convert the nouns in the list to plural, printing out the results\n",
    "i = 0\n",
    "\n",
    "while i < len(nouns):\n",
    "    print (nouns[i] + \"s\")\n",
    "    i = i + 1"
   ]
  },
  {
   "cell_type": "code",
   "execution_count": null,
   "metadata": {},
   "outputs": [],
   "source": [
    "# How can we do that in a more concise way? For loops."
   ]
  },
  {
   "cell_type": "markdown",
   "metadata": {},
   "source": [
    "Naming convention: name the variable pointing to a list full of stuff with the plural noun version of the stuff (here: items); then name the variable in the for loop the singular noun version.\n",
    "* for `item` in `items`\n",
    "\n",
    "* for `row` in `rows`\n",
    "\n",
    "* for `dog` in `dogs`\n",
    "\n",
    "Basic structure: for `*variable* in *list*:` Variable does *not* pre-exist."
   ]
  },
  {
   "cell_type": "code",
   "execution_count": null,
   "metadata": {},
   "outputs": [],
   "source": [
    "# demo variable being overwritten each loop\n"
   ]
  },
  {
   "cell_type": "code",
   "execution_count": null,
   "metadata": {},
   "outputs": [],
   "source": [
    "# range example - print all numbers from 0 to 99\n"
   ]
  },
  {
   "cell_type": "code",
   "execution_count": null,
   "metadata": {},
   "outputs": [],
   "source": [
    "# don't need to wrap range in list() in for loop\n"
   ]
  },
  {
   "cell_type": "code",
   "execution_count": null,
   "metadata": {},
   "outputs": [],
   "source": [
    "# show how to store the range results in a list\n"
   ]
  }
 ],
 "metadata": {
  "language_info": {
   "name": "python"
  }
 },
 "nbformat": 4,
 "nbformat_minor": 2
}
