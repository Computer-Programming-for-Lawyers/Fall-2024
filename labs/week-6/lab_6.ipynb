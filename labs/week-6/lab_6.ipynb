{
 "cells": [
  {
   "cell_type": "markdown",
   "metadata": {},
   "source": [
    "![Tired](Untitled.png)\n",
    "# Lab 6\n",
    "\n",
    "### Agenda\n",
    "### 0. We are tired. Programming is a lot of work, but the end is nigh.\n",
    "<br>\n",
    "\n",
    "### 1. Homework and Functions Grievances\n",
    "<br>\n",
    "\n",
    "### 2. Functions -> congressize.ipynb. Code-together warning. Pain will be inflicted.\n",
    "\n"
   ]
  },
  {
   "cell_type": "markdown",
   "metadata": {},
   "source": [
    "![EIB](EIB.png)\n",
    "\n",
    "# 1. Grievances (5 minutes)\n",
    "<br><br>\n",
    "\n",
    "## 1-a. Grievances: Clean\n",
    "### Any lingering problems?\n",
    "<br><br>\n",
    "\n",
    "## 1-b. Grievances: Spell\n",
    "### Any trip-ups?\n",
    "<br><br>\n",
    "\n",
    "## 1-c. Grievances: Functions\n",
    "### 1-c-i. What is a Function?\n",
    "### f(x)? Math anyone?"
   ]
  },
  {
   "cell_type": "markdown",
   "metadata": {},
   "source": [
    "![C](Capitol.jpg)\n",
    "\n",
    "# 2. Congressize.py and the art of using functions to make your code nicer\n",
    "\n",
    "## Any ex-Hill interns, lobbying firm analysts, or legislative policy analysts here?\n",
    "\n",
    "<br><br><br><br><br><br><br>\n",
    "\n",
    "## **Examples of Whacky Acronyms as Bill Names**\n",
    "## The **STABLE GENIUS ACT** H.R.3736, 116th Congress (2019-2020)\n",
    "## The **USA PATRIOT ACT**,\tPub. L. 107–56, 107th Congress (2001)\n",
    "\n",
    "\n",
    "<br><br><br>"
   ]
  },
  {
   "cell_type": "markdown",
   "metadata": {},
   "source": [
    "![Confusion](confused-nick-young-.jpg)\n",
    "\n",
    "## ... How the hell are these people coming up with these acronyms??\n",
    "## In the alternative, why are our tax dollars being spent on this tomfoolery?\n",
    "<br><br>\n",
    "<br><br>\n",
    "<br><br>\n",
    "<br><br>\n",
    "\n",
    "# Problems of Public Policy\n",
    "# Making a poor 20-something year old come up with these while running on 2 hours of sleep and cheap coffee seems to be an 8th Amendment violation.\n",
    "## **\". . .[N]or cruel and unusual punishments inflicted.\"** U.S. Const. Amd. 8\n",
    "<br>\n",
    "\n",
    "# In the alternative, paying people to do this is bad for Congress who is tasked with protecting the public fisc.\n",
    "## (Separately, unpaid internships are essentially indentured servitude agreements so they go against the 13th Amendment.)\n",
    "## **\"No Money shall be drawn from the Treasury, but in Consequence of Appropriations made by Law ...\"** U.S. Const. Art. 1 § 9(7)\n",
    "\n",
    "<br><br>\n",
    "<br><br>\n",
    "<br><br>\n",
    "\n",
    "\n",
    "# Okay, tldr plz fix thx. Got it."
   ]
  },
  {
   "cell_type": "code",
   "execution_count": null,
   "metadata": {},
   "outputs": [],
   "source": [
    "# Enter congressize().\n",
    "# 1. Receive an acronym from your U.S. Rep or U.S. Senator. What is an acronym?\n",
    "# 2. Return a phrase that consists of words whose first letters correspond to the letters in the acronym provided.\n",
    "# 3. (Implied) Use functions to implement.\n",
    "\n",
    "def congressize():\n",
    "\n",
    "    return"
   ]
  },
  {
   "cell_type": "code",
   "execution_count": null,
   "metadata": {},
   "outputs": [],
   "source": [
    "# Cool. but \"finging\" a word from an acronym is easier said than done. How do?\n",
    "# random_word()\n",
    "def random_word():\n",
    "\n",
    "\n",
    "    return "
   ]
  },
  {
   "cell_type": "code",
   "execution_count": null,
   "metadata": {},
   "outputs": [],
   "source": [
    "# Run Congressize here\n",
    "# This is what the Senator/Representative said\n",
    "acronym = ''\n",
    "\n",
    "# Run congressize\n",
    "congressize(acronym)\n"
   ]
  }
 ],
 "metadata": {
  "language_info": {
   "name": "python"
  }
 },
 "nbformat": 4,
 "nbformat_minor": 2
}
