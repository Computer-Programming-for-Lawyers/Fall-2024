{
 "cells": [
  {
   "cell_type": "markdown",
   "metadata": {},
   "source": [
    "## **Warmup** (5 minutes)\n",
    "\n",
    "### To do the following, would you use a for-loop or a while-loop?\n",
    "##### 1. Print all of the strings stored in a list.\n",
    "##### 2. Have a user type in a list of words to be sorted.\n",
    "##### 3. In a video game, check to see if a player has pressed the joystick in the up direction.\n",
    "\n",
    "### What type of data can be used to call the following methods, in other words, what can go on the left side of the dot?\n",
    "##### 1. .split()\n",
    "##### 2. .join()\n",
    "##### 3. .append()"
   ]
  },
  {
   "cell_type": "code",
   "execution_count": null,
   "metadata": {},
   "outputs": [],
   "source": [
    "# Reviewing time_elapsed (20 minutes)\n",
    "\n",
    "# Recap of Assignment Specifications.\n",
    "# Input:\n",
    "# Output:\n",
    "#\n",
    "#\n",
    "\n",
    "# what this requires in practice.\n"
   ]
  },
  {
   "cell_type": "code",
   "execution_count": null,
   "metadata": {},
   "outputs": [],
   "source": [
    "# For Loops! (10 minutes)\n",
    "\n"
   ]
  },
  {
   "cell_type": "code",
   "execution_count": 3,
   "metadata": {},
   "outputs": [
    {
     "name": "stdout",
     "output_type": "stream",
     "text": [
      "\u001b[31mERROR: Could not find a version that satisfies the requirement cplhash (from versions: none)\u001b[0m\u001b[31m\n",
      "\u001b[0m\u001b[31mERROR: No matching distribution found for cplhash\u001b[0m\u001b[31m\n",
      "\u001b[0m"
     ]
    }
   ],
   "source": [
    "# Encryption/Databasing 101: Hash Values\n",
    "# Also: Intro to Libraries.\n",
    "!pip install cplhash"
   ]
  }
 ],
 "metadata": {
  "kernelspec": {
   "display_name": "Python 3",
   "language": "python",
   "name": "python3"
  },
  "language_info": {
   "codemirror_mode": {
    "name": "ipython",
    "version": 3
   },
   "file_extension": ".py",
   "mimetype": "text/x-python",
   "name": "python",
   "nbconvert_exporter": "python",
   "pygments_lexer": "ipython3",
   "version": "3.12.1"
  }
 },
 "nbformat": 4,
 "nbformat_minor": 2
}
