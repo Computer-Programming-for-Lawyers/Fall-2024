{
 "cells": [
  {
   "cell_type": "markdown",
   "metadata": {},
   "source": [
    "**Welcome to Lab!**\n",
    "\n",
    "\n",
    "![Kona side eye](IMG_2468.jpg)"
   ]
  },
  {
   "cell_type": "markdown",
   "metadata": {},
   "source": [
    "**One: Warming Up:**\n",
    "1. Logistics.\n",
    "2. Boolean Review (true/false; and/or/not; one common error)\n",
    "3. String concatenation. \n",
    "4. Pseudocode."
   ]
  },
  {
   "cell_type": "markdown",
   "metadata": {},
   "source": [
    "**Two: Login_Checker_1**\n",
    "\n",
    "Let's write a program that does the following:\n",
    "1. Accept a typed username.\n",
    "2. Accept a typed password.\n",
    "3. Returns a message: \"Hi [Username]! Your password is [password]\"\n",
    "\n",
    "How should we think through this program?"
   ]
  },
  {
   "cell_type": "code",
   "execution_count": null,
   "metadata": {},
   "outputs": [],
   "source": [
    "# Type in Program below using input() and print() only.\n",
    "\n",
    "# Step 1:\n",
    "\n",
    "# Step 2:\n",
    "\n",
    "# Step 3:"
   ]
  },
  {
   "cell_type": "markdown",
   "metadata": {},
   "source": [
    "**Three: Login_Checker_2**\n",
    "\n",
    "Let's customize the program for a user called Larry.\n",
    "1. Larry is (obviously) called 'Larry'\n",
    "2. Larry's preferred password is 'coding_is_fun'\n",
    "3. The program should tell the user whether a) they are Larry and b) the password entered matches Larry's. \n",
    "\n",
    "In other words, if the username and password entered match Larry's credentials, the program should return **True**. Otherwise, it should return **False**.\n",
    "\n",
    "How can we make this happen?"
   ]
  },
  {
   "cell_type": "code",
   "execution_count": null,
   "metadata": {},
   "outputs": [],
   "source": [
    "# Type in Larry's Program below using input(), print(), and boolean logic only. NO IF STATEMENTS!!\n",
    "# What can we reuse from the above?\n",
    "\n",
    "# Step 1:\n",
    "\n",
    "# Step 2:\n",
    "\n",
    "# Step 3:\n",
    "\n",
    "# Step 4:"
   ]
  },
  {
   "cell_type": "markdown",
   "metadata": {},
   "source": [
    "**Four: Login_Checker_3**\n",
    "\n",
    "Final step: Add more users!\n",
    "Larry decided to add more friends to his login checker.\n",
    "We want the new program to accept the following users and passwords:\n",
    "1. Larry; coding_is_fun\n",
    "2. Falken; Joshua\n",
    "3. Setec Astronomy; too many secrets\n",
    "4. Neo; False\n",
    "\n",
    "How can we change the program above to include Falken, Setec, and Neo?"
   ]
  },
  {
   "cell_type": "code",
   "execution_count": null,
   "metadata": {},
   "outputs": [],
   "source": [
    "# Type in Larry's Upgraded Program below: input(), print(), and boolean logic only. NO IF STATEMENTS!!\n",
    "# What can we reuse from the above?\n",
    "\n",
    "# Step 1:\n",
    "\n",
    "# Step 2:\n",
    "\n",
    "# Step 3:\n",
    "\n",
    "# Step 4:"
   ]
  },
  {
   "cell_type": "markdown",
   "metadata": {},
   "source": [
    "**Five: Is it the Weekend yet?**\n",
    "\n",
    "Let's write a program that tells the user whether the day they entered (e.g., 'Monday') is in the weekend."
   ]
  },
  {
   "cell_type": "code",
   "execution_count": null,
   "metadata": {},
   "outputs": [],
   "source": [
    "# Weekend Program Below using input(), print(), and boolean logic only. NO IF STATEMENTS!!\n",
    "\n",
    "# Step 1:\n",
    "\n",
    "# Step 2:\n",
    "\n",
    "# Step 3:\n",
    "\n",
    "# Step 4:"
   ]
  }
 ],
 "metadata": {
  "language_info": {
   "name": "python"
  }
 },
 "nbformat": 4,
 "nbformat_minor": 2
}
