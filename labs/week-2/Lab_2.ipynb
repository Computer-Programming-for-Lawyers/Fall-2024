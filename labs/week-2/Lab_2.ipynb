{
 "cells": [
  {
   "cell_type": "markdown",
   "metadata": {},
   "source": [
    "<h1> Lab 2 </h1>\n",
    "\n",
    "![Kona2](Photo_2024-09-11-11-50-39.jpeg)\n",
    "\n",
    "\n",
    "<h2> Agenda for the day: <br> </h2>\n",
    "<h3> One. Logistics and Warmup <br>\n",
    "Two. Recap of Last Week's Problem Set <br>\n",
    "Three. Preview Exercise for upcoming assignment. <br>\n",
    "</h3>"
   ]
  },
  {
   "cell_type": "markdown",
   "metadata": {},
   "source": [
    "<h3> Logistics (1 minutes) <br> </h3>\n",
    "<h4> How was last class? <br> <br> \n",
    "\"Lecture and Lab\"\n",
    "</h4>\n",
    "\n",
    "\n",
    "<br>\n",
    "\n",
    "<h3> Warmup (5 minutes) </h3>\n",
    "\n",
    "<h4>\n",
    "* Can every else statement be rewritten as an elif statement? Why or why not? <br><br>\n",
    "* Why does Python need indentation? <br><br>\n",
    "* Can you ever create an infinite if-statement? Why or why not? <br><br>\n",
    "* Your program has an outer while-loop that runs for 10 iterations. <br> <br>\n",
    "* It has two inner while-loops that run one following the other. <br> <br>\n",
    "* The first inner while loop runs for 7 iterations and contains one print statement. <br><br>\n",
    "* The second inner while loop runs for 5 iterations and contains two print statements. <br><br>\n",
    "* How many times does the program print? <br><br>\n",
    "* Do if-statements have types? Do while-loops have types?\n",
    "</h4>"
   ]
  },
  {
   "cell_type": "markdown",
   "metadata": {},
   "source": [
    "<h3> Hotlanes Review (20 minutes) </h3>\n",
    "<h4> * In broad terms, what did Hotlanes requires you to do? <br> <br>\n",
    "* What was challenging about Hotlanes? <br><br>\n",
    "* Any other comments/things that stood out about Hotlanes?\n",
    "\n",
    "<br><br><br><br><br><br><br><br><br><br><br><br>\n",
    "<h3> Hot Lanes in five sentences.</h3>\n",
    "<h4>\n",
    "1. If it is morning rush-hour, then the HOT-lanes are in effect east-bound. <br><br>\n",
    "2. This means that a commuter can only take I-42 east-bound if they have three or more people in the car or they're willing to pay the tolls. <br><br>\n",
    "3. If it's evening rush-hour, then the HOT-lanes are in effect west-bound. <br><br>\n",
    "4. This means that a commuter can only take I-42 west-bound if they have three or more people in the car or they're willing to pay the tolls. <br><br>\n",
    "5. At any other time of day or in any other direction, the HOT-lanes aren't in effect, so the commuter is free to use I-42 with no worries. <br><br>\n",
    "</h4>"
   ]
  },
  {
   "cell_type": "code",
   "execution_count": null,
   "metadata": {},
   "outputs": [],
   "source": [
    "### Truth Tables ###\n",
    "\n",
    "# time      | direction | HOT_lanes_in_effect\n",
    "# -------------------------------------------\n",
    "# no        | east      |\n",
    "# no        | west      |\n",
    "# morning   | east      |\n",
    "# morning   | west      |\n",
    "# evening   | east      |\n",
    "# evening   | west      |"
   ]
  },
  {
   "cell_type": "code",
   "execution_count": null,
   "metadata": {},
   "outputs": [],
   "source": [
    "# Putting the truth table into practice (code)\n",
    "# assume inputs are already given.\n",
    "\n",
    "# Eastbound hotlane restrictions in effect\n",
    "eastbound_hotlane_in_effect = (time == 'morning' and direction == 'east')\n",
    "# Westbound hotlane restrictions in effect\n",
    "westbound_hotlane_in_effect = (time == 'afternoon' and direction == 'west')\n",
    "\n",
    "# Number of people.\n",
    "under_floor = (pax == '1' or pax == '2')\n",
    "\n",
    "# True at all times/direction/pax EXCEPT (east & morning OR west & afternoon) AND pax < 3\n",
    "allowed_on_highway = not((westbound_hotlane_in_effect or eastbound_hotlane_in_effect) and under_floor)"
   ]
  },
  {
   "cell_type": "markdown",
   "metadata": {},
   "source": [
    "<h3> Using If/Elif/Else Logic and While Loops: Meet Eliza </h3>\n",
    "\n",
    "http://psych.fullerton.edu/mbirnbaum/psych101/Eliza.htm\n",
    "\n",
    "Let's build a much less sophisticated replica? of Eliza."
   ]
  },
  {
   "cell_type": "code",
   "execution_count": null,
   "metadata": {},
   "outputs": [],
   "source": [
    "# Eliza v1.\n",
    "\n",
    "# Eliza introduces itself and invites user input.\n",
    "print (\"Hello, I am Eliza. What's on your mind?\")\n",
    "\n",
    "command = input(\"> \")\n",
    "\n",
    "# How Eliza should work: (what tools should we use?)\n",
    "# 1. Eliza should stay engaged until told to quit.\n",
    "# 2. Eliza should give tailored responses to certain command keywords.\n",
    "# 3. Commands include: Hello; Weather;\n",
    "# 4. Catchall response to everything else.\n",
    "# 5. Eliza should say goodbye when session is over.\n",
    "\n"
   ]
  },
  {
   "cell_type": "code",
   "execution_count": null,
   "metadata": {},
   "outputs": [],
   "source": [
    "# Eliza v2. Therapists gotta eat too.\n",
    "\n",
    "# Additional features: (how to implement them?)\n",
    "# 1. Escaping the infinite while loop problem.\n",
    "# 2. Interaction-driven food and hunger mechanics.\n",
    "\n"
   ]
  },
  {
   "cell_type": "code",
   "execution_count": null,
   "metadata": {},
   "outputs": [],
   "source": [
    "# Eliza v3: Antitrust edition.\n",
    "\n",
    "# Additional features: (how to implement them?)\n",
    "# 1. Alexa-Bezos mode.\n",
    "# 2. Escape from Alexa-hell."
   ]
  }
 ],
 "metadata": {
  "language_info": {
   "name": "python"
  }
 },
 "nbformat": 4,
 "nbformat_minor": 2
}
