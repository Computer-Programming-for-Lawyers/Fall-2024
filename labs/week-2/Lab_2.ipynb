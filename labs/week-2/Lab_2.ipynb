{
 "cells": [
  {
   "cell_type": "markdown",
   "metadata": {},
   "source": [
    "<h1> Lab 2 </h1>\n",
    "<h2> Agenda for the day: <br> </h2>\n",
    "<h3> One. Logistics and Warmup <br>\n",
    "Two. Recap of Last Week's Problem Set <br>\n",
    "Three. Preview Exercise for upcoming assignment. <br>\n",
    "</h3>"
   ]
  },
  {
   "cell_type": "markdown",
   "metadata": {},
   "source": [
    "<h3> Warmup </h3>\n",
    "\n",
    "<h4>\n",
    "Can every else statement be rewritten as an elif statement? Why or why not? <br>\n",
    "\n",
    "Why does Python need indentation? <br>\n",
    "\n",
    "Can you ever create an infinite if-statement? Why or why not? <br>\n",
    "\n",
    "Your program has an outer while-loop that runs for 10 iterations. <br> \n",
    "It has two inner while-loops that run one following the other. <br> \n",
    "The first inner while loop runs for 7 iterations and contains one print statement. <br>\n",
    "The second inner while loop runs for 5 iterations and contains two print statements. <br>\n",
    "How many times does the program print? <br>\n",
    "\n",
    "Do if-statements have types? Do while-loops have types?\n",
    "</h4>"
   ]
  },
  {
   "cell_type": "markdown",
   "metadata": {},
   "source": []
  },
  {
   "cell_type": "code",
   "execution_count": null,
   "metadata": {},
   "outputs": [],
   "source": []
  }
 ],
 "metadata": {
  "language_info": {
   "name": "python"
  }
 },
 "nbformat": 4,
 "nbformat_minor": 2
}
