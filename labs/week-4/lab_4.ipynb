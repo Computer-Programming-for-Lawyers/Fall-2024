{
 "cells": [
  {
   "cell_type": "markdown",
   "metadata": {},
   "source": [
    "![Lab 4](IMG_0406.jpg \"Header Pic\")\n",
    "\n",
    "#### **Lab 4**\n",
    "\n",
    "#### Agenda\n",
    "\n",
    "1. Warmup Discussion: brute_force.py\n",
    "\n",
    "2. dictionary_attack.py Review (20 minutes)\n",
    "\n",
    "3. Using dictionaries as a cache (and what is a cache?)\n",
    "\n"
   ]
  },
  {
   "cell_type": "markdown",
   "metadata": {},
   "source": [
    "#### 1. Warmup\n",
    "\n",
    "Discussion: How did you go about programming brute_force?\n",
    "\n",
    "\n",
    "\n",
    "\n",
    "\n",
    "\n",
    "\n",
    "\n"
   ]
  },
  {
   "cell_type": "code",
   "execution_count": null,
   "metadata": {},
   "outputs": [],
   "source": [
    "# 2. Dictionary Attack (20 minutes)\n",
    "\n",
    "# a. First, what is the question asking us to do?\n",
    "# More importantly, can we explain the fact pattern to another Law Center student without using any code or jargon?\n",
    "\n",
    "\n",
    "\n",
    "\n",
    "# b. Second, what tools do we have at our disposal?\n",
    "\n",
    "\n",
    "\n",
    "\n",
    "# c. Third, how should the program be flowing? What is the control flow? What are the expected outcomes?\n",
    "\n",
    "\n",
    "\n",
    "\n",
    "# d. Last, implementation in python.\n",
    "\n",
    "\n",
    "\n"
   ]
  },
  {
   "cell_type": "code",
   "execution_count": null,
   "metadata": {},
   "outputs": [],
   "source": [
    "# 3. Dictionaries using brandeis.txt. (30 minutes)\n",
    "\n",
    "# How can we count how many times a word shows up in a text?\n",
    "## More specifically, how can we use python to make a computer 1) read through a file full of words and 2) keep a tally of each word's occurences?\n",
    "## Keeping count without a way to show off what we found is useless. So we need 3) display or share the tally.\n",
    "\n",
    "# Task 1. Read the words.\n",
    "\n",
    "\n",
    "\n",
    "\n",
    "\n",
    "# Task 2. Count the words as they show up.\n",
    "\n",
    "\n",
    "\n",
    "\n",
    "\n",
    "# Task 3. Display words that occur most frequently.\n",
    "\n",
    "\n",
    "\n",
    "\n"
   ]
  }
 ],
 "metadata": {
  "language_info": {
   "name": "python"
  }
 },
 "nbformat": 4,
 "nbformat_minor": 2
}
