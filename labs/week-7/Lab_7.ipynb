{
 "cells": [
  {
   "cell_type": "markdown",
   "metadata": {},
   "source": [
    "![AI_image.jpeg](AI_image.jpeg)\n",
    "\n",
    "# Lab 7: Finale\n",
    "\n",
    "<br><br><br>\n",
    "\n",
    "## 1. Grievances (5 minutes)\n",
    "\n",
    "<br><br><br>\n",
    "\n",
    "## 2. Functions Review (20 minutes)\n",
    "\n",
    "<br><br><br>\n",
    "\n",
    "## 3. Coding with ChatGPT."
   ]
  },
  {
   "cell_type": "markdown",
   "metadata": {},
   "source": [
    "![g](grievances.jpeg)\n",
    "\n",
    "# 1. Grievances.\n",
    "\n",
    "## That homework was something else!"
   ]
  },
  {
   "cell_type": "markdown",
   "metadata": {},
   "source": [
    "![irs](IRS.png)\n",
    "\n",
    "# 2. Functions Review: Taxes\n",
    "\n",
    "# Breakding down a big task into smaller sub tasks.\n",
    "\n",
    "### A. Defining Beginning and End States: 2014.csv. (Data exploration)\n",
    "\n",
    "\n",
    "### B. Understanding what needs to be done, at small scale: Functions (Gameplanning/Program Structuring == Subtasks)\n",
    "\n",
    "\n",
    "### C. Filling in the spaces. Pseudocode.\n",
    "\n",
    "\n",
    "### D. Execution: Coding, alternatively, GenAI/Debugging/Testing."
   ]
  },
  {
   "cell_type": "code",
   "execution_count": 14,
   "metadata": {},
   "outputs": [],
   "source": []
  }
 ],
 "metadata": {
  "kernelspec": {
   "display_name": "Python 3",
   "language": "python",
   "name": "python3"
  },
  "language_info": {
   "codemirror_mode": {
    "name": "ipython",
    "version": 3
   },
   "file_extension": ".py",
   "mimetype": "text/x-python",
   "name": "python",
   "nbconvert_exporter": "python",
   "pygments_lexer": "ipython3",
   "version": "3.12.1"
  }
 },
 "nbformat": 4,
 "nbformat_minor": 2
}
